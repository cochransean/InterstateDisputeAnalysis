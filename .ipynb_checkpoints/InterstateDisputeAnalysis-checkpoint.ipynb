{
 "cells": [
  {
   "cell_type": "code",
   "execution_count": 40,
   "metadata": {
    "collapsed": false
   },
   "outputs": [],
   "source": [
    "import pandas as pd\n",
    "\n",
    "# Dispute-level data and corresponding country codes into data frames\n",
    "disputes = pd.read_csv('data/MIDB_4.01.csv')\n",
    "country_codes = pd.read_csv('data/COW country codes.csv')\n",
    "country_codes = country_codes.drop_duplicates()\n",
    "\n",
    "# Get rid of columns we don't care about\n",
    "disputes = disputes.loc[:, ['StAbb', 'ccode', 'StYear', 'EndYear', 'Orig', 'Fatality', 'FataPre', 'HiAct']]\n",
    "\n",
    "# Only include hostile acts that involved at least a border violation\n",
    "severity_filter = disputes['HiAct'].map(lambda x: x >= 12)\n",
    "disputes = disputes[severity_filter]"
   ]
  },
  {
   "cell_type": "code",
   "execution_count": 41,
   "metadata": {
    "collapsed": true
   },
   "outputs": [],
   "source": [
    "# Get state membership by year\n",
    "states_by_year = pd.read_csv('data/system2011.csv')"
   ]
  },
  {
   "cell_type": "code",
   "execution_count": 42,
   "metadata": {
    "collapsed": false
   },
   "outputs": [],
   "source": [
    "# Get years covered\n",
    "years = states_by_year['year'].unique()\n",
    "\n",
    "# Make a dict to track state membership by year\n",
    "membership = dict()\n",
    "for year in years:\n",
    "    membership[year] = set()\n",
    "    \n",
    "# Iterate over the dataset, creating a set for each year with state membership by CCode\n",
    "for row in states_by_year.iterrows():\n",
    "    membership[row[1]['year']].add(row[1]['ccode'])"
   ]
  },
  {
   "cell_type": "code",
   "execution_count": 43,
   "metadata": {
    "collapsed": false
   },
   "outputs": [
    {
     "name": "stdout",
     "output_type": "stream",
     "text": [
      "       EndYear  FataPre  Fatality  HiAct  Orig StAbb  StYear  ccode  \\\n",
      "15675     2010      NaN       NaN    NaN   NaN   NaN    2010    483   \n",
      "15676     2010      NaN       NaN    NaN   NaN   NaN    2010    484   \n",
      "15677     2010      NaN       NaN    NaN   NaN   NaN    2010    490   \n",
      "15678     2010      NaN       NaN    NaN   NaN   NaN    2010    501   \n",
      "15679     2010      NaN       NaN    NaN   NaN   NaN    2010    510   \n",
      "\n",
      "       no_conflict  \n",
      "15675            1  \n",
      "15676            1  \n",
      "15677            1  \n",
      "15678            1  \n",
      "15679            1  \n"
     ]
    }
   ],
   "source": [
    "# Need to do a dataframe with all countries that existed in a year, whether attacked or not and with potential \n",
    "# explanatory variables (10 year average of CINC, international memberships, etc.).\n",
    "\n",
    "# Create a new dataframe with the dispute data but filter out countries who were aggressor and add the variable columns\n",
    "non_aggressors_filter = disputes['Orig'].map(lambda x: x == 0)\n",
    "non_aggressors = disputes[non_aggressors_filter]\n",
    "\n",
    "# New dataframe to store all countries, including those with no disputes in a given year\n",
    "total_possible_conflicts = disputes\n",
    "\n",
    "# Add the countries that existed in each year but did not have a conflict\n",
    "for year in range(1816, 2011):\n",
    "    \n",
    "    # Find the countries that existed AND had a conflict for given year\n",
    "    filter_criteria = disputes['StYear'].map(lambda x: x == year)\n",
    "    \n",
    "    # Find countries that existed but did not have a conflict\n",
    "    had_conflict = set(disputes[filter_criteria]['ccode'])\n",
    "    no_conflict = membership[year] - had_conflict\n",
    "    \n",
    "    for country in no_conflict:\n",
    "        # Add to original data frame (conflict-related columns should be blank)\n",
    "        new_line = pd.DataFrame({'ccode': country, 'no_conflict': 1, 'StYear': year, 'EndYear': year}, index=[0])\n",
    "        total_possible_conflicts = total_possible_conflicts.append(new_line, ignore_index=True)\n",
    "    "
   ]
  },
  {
   "cell_type": "code",
   "execution_count": 44,
   "metadata": {
    "collapsed": false
   },
   "outputs": [
    {
     "data": {
      "text/plain": [
       "Index(['EndYear', 'FataPre', 'Fatality', 'HiAct', 'Orig', 'StAbb', 'StYear',\n",
       "       'ccode', 'no_conflict', 'stateabb', 'year', 'irst', 'milex', 'milper',\n",
       "       'pec', 'tpop', 'upop', 'cinc', 'version', 'StateAbb', 'CCode',\n",
       "       'StateNme'],\n",
       "      dtype='object')"
      ]
     },
     "execution_count": 44,
     "metadata": {},
     "output_type": "execute_result"
    }
   ],
   "source": [
    "# Add the variables investigating (NMC, etc.)\n",
    "nmc = pd.read_csv('data/NMC_v4_0.csv')\n",
    "total_possible_conflicts = pd.merge(left=total_possible_conflicts, right=nmc, left_on=['ccode', 'StYear'], \n",
    "                                    right_on=['ccode', 'year'])\n",
    "\n",
    "# Fill out no_conflict for countries that had one (this is the variable we are testing).\n",
    "total_possible_conflicts.no_conflict = total_possible_conflicts.no_conflict.fillna(value=0)\n",
    "\n",
    "# Merge with country code names to get the full state name\n",
    "total_possible_conflicts = pd.merge(left=total_possible_conflicts,right=country_codes, \n",
    "                                    left_on='ccode', right_on='CCode', how='inner')\n"
   ]
  },
  {
   "cell_type": "code",
   "execution_count": null,
   "metadata": {
    "collapsed": true
   },
   "outputs": [],
   "source": []
  }
 ],
 "metadata": {
  "kernelspec": {
   "display_name": "Python 3",
   "language": "python",
   "name": "python3"
  },
  "language_info": {
   "codemirror_mode": {
    "name": "ipython",
    "version": 3
   },
   "file_extension": ".py",
   "mimetype": "text/x-python",
   "name": "python",
   "nbconvert_exporter": "python",
   "pygments_lexer": "ipython3",
   "version": "3.5.1"
  }
 },
 "nbformat": 4,
 "nbformat_minor": 0
}
