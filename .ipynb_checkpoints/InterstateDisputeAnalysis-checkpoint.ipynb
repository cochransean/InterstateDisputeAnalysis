{
 "cells": [
  {
   "cell_type": "code",
   "execution_count": 1,
   "metadata": {
    "collapsed": false
   },
   "outputs": [],
   "source": [
    "import pandas as pd\n",
    "\n",
    "# Dispute-level data and corresponding country codes into data frames\n",
    "disputes = pd.read_csv('data/MIDB_4.01.csv')\n",
    "country_codes = pd.read_csv('data/COW country codes.csv')\n",
    "country_codes = country_codes.drop_duplicates()\n",
    "\n",
    "# Get rid of columns we don't care about\n",
    "disputes = disputes.loc[:, ['StAbb', 'ccode', 'StYear', 'EndYear', 'Orig', 'Fatality', 'FataPre', 'HiAct']]\n",
    "\n",
    "# Only include hostile acts that involved at least a border violation\n",
    "severity_filter = disputes['HiAct'].map(lambda x: x >= 12)\n",
    "disputes = disputes[severity_filter]"
   ]
  },
  {
   "cell_type": "code",
   "execution_count": 12,
   "metadata": {
    "collapsed": false
   },
   "outputs": [],
   "source": [
    "# Get state membership by year\n",
    "states_by_year = pd.read_csv('data/system2011.csv')"
   ]
  },
  {
   "cell_type": "code",
   "execution_count": 13,
   "metadata": {
    "collapsed": false
   },
   "outputs": [],
   "source": [
    "# Get years covered\n",
    "years = states_by_year['year'].unique()\n",
    "\n",
    "# Make a dict to track state membership by year\n",
    "membership = dict()\n",
    "for year in years:\n",
    "    membership[year] = set()\n",
    "    \n",
    "# Iterate over the dataset, creating a set for each year with state membership by CCode\n",
    "for row in states_by_year.iterrows():\n",
    "    membership[row[1]['year']].add(row[1]['ccode'])"
   ]
  },
  {
   "cell_type": "code",
   "execution_count": 14,
   "metadata": {
    "collapsed": false
   },
   "outputs": [],
   "source": [
    "# Need to do a dataframe with all countries that existed in a year, whether attacked or not and with potential \n",
    "# explanatory variables (10 year average of CINC, international memberships, etc.).\n",
    "\n",
    "# Create a new dataframe with the dispute data but filter out countries who were aggressor and add the variable columns\n",
    "non_aggressors_filter = disputes['Orig'].map(lambda x: x == 0)\n",
    "non_aggressors = disputes[non_aggressors_filter]\n",
    "\n",
    "# New dataframe to store all countries, including those with no disputes in a given year\n",
    "total_possible_conflicts = disputes\n",
    "\n",
    "# TODO only include non-aggressors since we are studying deterrence\n",
    "\n",
    "# Add the countries that existed in each year but did not have a conflict\n",
    "for year in range(1816, 2011):\n",
    "    \n",
    "    # Find the countries that existed AND had a conflict for given year\n",
    "    filter_criteria = disputes['StYear'].map(lambda x: x == year)\n",
    "    \n",
    "    # Find countries that existed but did not have a conflict\n",
    "    had_conflict = set(disputes[filter_criteria]['ccode'])\n",
    "    no_conflict = membership[year] - had_conflict\n",
    "    \n",
    "    for country in no_conflict:\n",
    "        # Add to original data frame (conflict-related columns should be blank)\n",
    "        new_line = pd.DataFrame({'ccode': country, 'no_conflict': 1, 'StYear': year, 'EndYear': year}, index=[0])\n",
    "        total_possible_conflicts = total_possible_conflicts.append(new_line, ignore_index=True)\n",
    "    "
   ]
  },
  {
   "cell_type": "code",
   "execution_count": 15,
   "metadata": {
    "collapsed": false
   },
   "outputs": [],
   "source": [
    "# Add the variables investigating (NMC, etc.)\n",
    "nmc = pd.read_csv('data/NMC_v4_0.csv')\n",
    "total_possible_conflicts = pd.merge(left=total_possible_conflicts, right=nmc, left_on=['ccode', 'StYear'], \n",
    "                                    right_on=['ccode', 'year'])\n",
    "\n",
    "# Fill out no_conflict for countries that had one (this is the variable we are testing).\n",
    "total_possible_conflicts.no_conflict = total_possible_conflicts.no_conflict.fillna(value=0)\n",
    "\n",
    "# Merge with country code names to get the full state name\n",
    "total_possible_conflicts = pd.merge(left=total_possible_conflicts,right=country_codes, \n",
    "                                    left_on='ccode', right_on='CCode', how='inner')\n"
   ]
  },
  {
   "cell_type": "code",
   "execution_count": 98,
   "metadata": {
    "collapsed": false
   },
   "outputs": [
    {
     "name": "stdout",
     "output_type": "stream",
     "text": [
      "CPU times: user 3 µs, sys: 0 ns, total: 3 µs\n",
      "Wall time: 6.91 µs\n"
     ]
    }
   ],
   "source": [
    "\"\"\"\n",
    "Remove right and left-censored data then get collection of durations since last conflict for fully-observed cycles.\n",
    "\"\"\"\n",
    "\n",
    "# Sort conflict data by country then year\n",
    "total_possible_conflicts.sort_values(by=['CCode', 'StYear'], ascending=[True, True], inplace=True)\n",
    "# Add column to track duration since last war by country\n",
    "total_possible_conflicts['duration'] = pd.Series()\n",
    "# Get list of all countries in dataset to track when they are no longer left-censored\n",
    "censored_countries = pd.Series(True, index=states_by_year['ccode'].unique())\n",
    "# Track duration of current periods\n",
    "current_periods = conflict_last_iteration = pd.Series(0, index=states_by_year['ccode'].unique())\n",
    "# Track results\n",
    "durations_since_conflict = list()\n",
    "\n",
    "# Get the all fully-observed durations since last conflict in data set. \n",
    "# Iterate by year since some years have multiple entries (if a state was involved in a multi-part dispute \n",
    "# during a single year).\n",
    "for year in range(1816, 2011):\n",
    "    year_filter = total_possible_conflicts['StYear'].map(lambda x: x == year)\n",
    "    year_data = total_possible_conflicts[year_filter]\n",
    "    for ccode in states_by_year['ccode'].unique():\n",
    "        country_filter = year_data['ccode'].map(lambda x: x == ccode)\n",
    "        country_data = year_data[country_filter]\n",
    "\n",
    "        # Find instances of given country in given year starting a conflict\n",
    "        conflicts_for_year = country_data.loc[(total_possible_conflicts['no_conflict'] == 0)]\n",
    "        \n",
    "        # Check if the country had a conflict during selection\n",
    "        if(len(conflicts_for_year.index) > 1):\n",
    "            # Reset period\n",
    "            current_periods[ccode] = 0\n",
    "            # Make sure country isn't censored\n",
    "            censored_countries[ccode] = False\n",
    "        else:\n",
    "            # Track the duration since last conflict if not censored\n",
    "            if censored_countries[ccode] == False:\n",
    "                durations_since_conflict.append(current_periods[ccode])\n",
    "                \n",
    "        # Add duration since last conflict to the row but only if not censored\n",
    "        if censored_countries[ccode] == False:\n",
    "            total_possible_conflicts.loc[year_filter & country_filter] = current_periods[ccode]\n",
    "        \n",
    "        # Increment the period\n",
    "        current_periods[ccode] += 1"
   ]
  },
  {
   "cell_type": "code",
   "execution_count": 101,
   "metadata": {
    "collapsed": false
   },
   "outputs": [
    {
     "name": "stdout",
     "output_type": "stream",
     "text": [
      "17.0\n"
     ]
    }
   ],
   "source": [
    "# Use durations from above to get media duration between conflict for fully-observed periods\n",
    "median_duration = pd.Series(durations_since_conflict).median()\n",
    "print(median_duration)\n",
    "\n",
    "# Populate left-censored data with median duration"
   ]
  },
  {
   "cell_type": "code",
   "execution_count": null,
   "metadata": {
    "collapsed": true
   },
   "outputs": [],
   "source": []
  }
 ],
 "metadata": {
  "kernelspec": {
   "display_name": "Python 3",
   "language": "python",
   "name": "python3"
  },
  "language_info": {
   "codemirror_mode": {
    "name": "ipython",
    "version": 3
   },
   "file_extension": ".py",
   "mimetype": "text/x-python",
   "name": "python",
   "nbconvert_exporter": "python",
   "pygments_lexer": "ipython3",
   "version": "3.5.1"
  }
 },
 "nbformat": 4,
 "nbformat_minor": 0
}
