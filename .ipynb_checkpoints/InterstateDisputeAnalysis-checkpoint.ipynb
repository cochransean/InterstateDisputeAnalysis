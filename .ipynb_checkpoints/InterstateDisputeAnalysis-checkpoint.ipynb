{
 "cells": [
  {
   "cell_type": "code",
   "execution_count": 87,
   "metadata": {
    "collapsed": false
   },
   "outputs": [],
   "source": [
    "import pandas as pd\n",
    "\n",
    "# Dispute-level data and corresponding country codes into data frames\n",
    "disputes = pd.read_csv('data/MIDB_4.01.csv')\n",
    "country_codes = pd.read_csv('data/COW country codes.csv')\n",
    "country_codes = country_codes.drop_duplicates()\n",
    "\n",
    "# Merge with country code names to get the full state name\n",
    "disputes = pd.merge(left=disputes,right=country_codes, left_on='ccode', right_on='CCode', how='inner')\n"
   ]
  },
  {
   "cell_type": "code",
   "execution_count": 88,
   "metadata": {
    "collapsed": true
   },
   "outputs": [],
   "source": [
    "# Get state membership by year\n",
    "states_by_year = pd.read_csv('data/system2011.csv')"
   ]
  },
  {
   "cell_type": "code",
   "execution_count": 109,
   "metadata": {
    "collapsed": false
   },
   "outputs": [
    {
     "name": "stdout",
     "output_type": "stream",
     "text": [
      "0    United States of America\n",
      "Name: StateNme, dtype: object\n"
     ]
    }
   ],
   "source": [
    "print(country_codes['StateNme'][country_codes['CCode'] == 2])"
   ]
  },
  {
   "cell_type": "code",
   "execution_count": 110,
   "metadata": {
    "collapsed": false
   },
   "outputs": [],
   "source": [
    "# Get years covered\n",
    "years = states_by_year['year'].unique()\n",
    "\n",
    "# Make a dict to track state membership by year\n",
    "membership = dict()\n",
    "for year in years:\n",
    "    membership[year] = set()\n",
    "    \n",
    "# Iterate over the dataset, creating a set for each year with state membership by CCode\n",
    "for row in states_by_year.iterrows():\n",
    "    membership[row[1]['year']].add(row[1]['ccode'])"
   ]
  },
  {
   "cell_type": "code",
   "execution_count": 112,
   "metadata": {
    "collapsed": false
   },
   "outputs": [],
   "source": [
    "# Need to do a dataframe with all countries that existed in a year, whether attacked or not and with potential \n",
    "# explanatory variables (10 year average of CINC, international memberships, etc.)."
   ]
  },
  {
   "cell_type": "code",
   "execution_count": null,
   "metadata": {
    "collapsed": true
   },
   "outputs": [],
   "source": []
  }
 ],
 "metadata": {
  "kernelspec": {
   "display_name": "Python 3",
   "language": "python",
   "name": "python3"
  },
  "language_info": {
   "codemirror_mode": {
    "name": "ipython",
    "version": 3
   },
   "file_extension": ".py",
   "mimetype": "text/x-python",
   "name": "python",
   "nbconvert_exporter": "python",
   "pygments_lexer": "ipython3",
   "version": "3.5.1"
  }
 },
 "nbformat": 4,
 "nbformat_minor": 0
}
